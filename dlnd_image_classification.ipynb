{
 "cells": [
  {
   "cell_type": "markdown",
   "metadata": {
    "collapsed": true,
    "deletable": true,
    "editable": true
   },
   "source": [
    "# Image Classification\n",
    "In this project, you'll classify images from the [CIFAR-10 dataset](https://www.cs.toronto.edu/~kriz/cifar.html).  The dataset consists of airplanes, dogs, cats, and other objects. You'll preprocess the images, then train a convolutional neural network on all the samples. The images need to be normalized and the labels need to be one-hot encoded.  You'll get to apply what you learned and build a convolutional, max pooling, dropout, and fully connected layers.  At the end, you'll get to see your neural network's predictions on the sample images.\n",
    "## Get the Data\n",
    "Run the following cell to download the [CIFAR-10 dataset for python](https://www.cs.toronto.edu/~kriz/cifar-10-python.tar.gz)."
   ]
  },
  {
   "cell_type": "code",
   "execution_count": 1,
   "metadata": {
    "collapsed": false,
    "deletable": true,
    "editable": true
   },
   "outputs": [
    {
     "name": "stdout",
     "output_type": "stream",
     "text": [
      "All files found!\n"
     ]
    }
   ],
   "source": [
    "\"\"\"\n",
    "DON'T MODIFY ANYTHING IN THIS CELL THAT IS BELOW THIS LINE\n",
    "\"\"\"\n",
    "from urllib.request import urlretrieve\n",
    "from os.path import isfile, isdir\n",
    "from tqdm import tqdm\n",
    "import problem_unittests as tests\n",
    "import tarfile\n",
    "\n",
    "cifar10_dataset_folder_path = 'cifar-10-batches-py'\n",
    "\n",
    "# Use Floyd's cifar-10 dataset if present\n",
    "floyd_cifar10_location = '/input/cifar-10/python.tar.gz'\n",
    "if isfile(floyd_cifar10_location):\n",
    "    tar_gz_path = floyd_cifar10_location\n",
    "else:\n",
    "    tar_gz_path = 'cifar-10-python.tar.gz'\n",
    "\n",
    "class DLProgress(tqdm):\n",
    "    last_block = 0\n",
    "\n",
    "    def hook(self, block_num=1, block_size=1, total_size=None):\n",
    "        self.total = total_size\n",
    "        self.update((block_num - self.last_block) * block_size)\n",
    "        self.last_block = block_num\n",
    "\n",
    "if not isfile(tar_gz_path):\n",
    "    with DLProgress(unit='B', unit_scale=True, miniters=1, desc='CIFAR-10 Dataset') as pbar:\n",
    "        urlretrieve(\n",
    "            'https://www.cs.toronto.edu/~kriz/cifar-10-python.tar.gz',\n",
    "            tar_gz_path,\n",
    "            pbar.hook)\n",
    "\n",
    "if not isdir(cifar10_dataset_folder_path):\n",
    "    with tarfile.open(tar_gz_path) as tar:\n",
    "        tar.extractall()\n",
    "        tar.close()\n",
    "\n",
    "\n",
    "tests.test_folder_path(cifar10_dataset_folder_path)"
   ]
  },
  {
   "cell_type": "markdown",
   "metadata": {
    "deletable": true,
    "editable": true
   },
   "source": [
    "## Explore the Data\n",
    "The dataset is broken into batches to prevent your machine from running out of memory.  The CIFAR-10 dataset consists of 5 batches, named `data_batch_1`, `data_batch_2`, etc.. Each batch contains the labels and images that are one of the following:\n",
    "* airplane\n",
    "* automobile\n",
    "* bird\n",
    "* cat\n",
    "* deer\n",
    "* dog\n",
    "* frog\n",
    "* horse\n",
    "* ship\n",
    "* truck\n",
    "\n",
    "Understanding a dataset is part of making predictions on the data.  Play around with the code cell below by changing the `batch_id` and `sample_id`. The `batch_id` is the id for a batch (1-5). The `sample_id` is the id for a image and label pair in the batch.\n",
    "\n",
    "Ask yourself \"What are all possible labels?\", \"What is the range of values for the image data?\", \"Are the labels in order or random?\".  Answers to questions like these will help you preprocess the data and end up with better predictions."
   ]
  },
  {
   "cell_type": "code",
   "execution_count": 2,
   "metadata": {
    "collapsed": false,
    "deletable": true,
    "editable": true
   },
   "outputs": [
    {
     "name": "stdout",
     "output_type": "stream",
     "text": [
      "\n",
      "Stats of batch 1:\n",
      "Samples: 10000\n",
      "Label Counts: {0: 1005, 1: 974, 2: 1032, 3: 1016, 4: 999, 5: 937, 6: 1030, 7: 1001, 8: 1025, 9: 981}\n",
      "First 20 Labels: [6, 9, 9, 4, 1, 1, 2, 7, 8, 3, 4, 7, 7, 2, 9, 9, 9, 3, 2, 6]\n",
      "\n",
      "Example of Image 6:\n",
      "Image - Min Value: 7 Max Value: 249\n",
      "Image - Shape: (32, 32, 3)\n",
      "Label - Label Id: 2 Name: bird\n"
     ]
    },
    {
     "data": {
      "image/png": "[encoded data removed]",
      "text/plain": [
       "<matplotlib.figure.Figure at 0x7f3eb89f6828>"
      ]
     },
     "metadata": {
      "image/png": {
       "height": 250,
       "width": 253
      }
     },
     "output_type": "display_data"
    }
   ],
   "source": [
    "%matplotlib inline\n",
    "%config InlineBackend.figure_format = 'retina'\n",
    "\n",
    "import helper\n",
    "import numpy as np\n",
    "\n",
    "# Explore the dataset\n",
    "batch_id = 1\n",
    "sample_id = 6\n",
    "helper.display_stats(cifar10_dataset_folder_path, batch_id, sample_id)"
   ]
  },
  {
   "cell_type": "markdown",
   "metadata": {
    "deletable": true,
    "editable": true
   },
   "source": [
    "## Implement Preprocess Functions\n",
    "### Normalize\n",
    "In the cell below, implement the `normalize` function to take in image data, `x`, and return it as a normalized Numpy array. The values should be in the range of 0 to 1, inclusive.  The return object should be the same shape as `x`."
   ]
  },
  {
   "cell_type": "code",
   "execution_count": 3,
   "metadata": {
    "collapsed": false,
    "deletable": true,
    "editable": true
   },
   "outputs": [
    {
     "name": "stdout",
     "output_type": "stream",
     "text": [
      "Tests Passed\n"
     ]
    }
   ],
   "source": [
    "def normalize(x):\n",
    "    \"\"\"\n",
    "    Normalize a list of sample image data in the range of 0 to 1\n",
    "    : x: List of image data.  The image shape is (32, 32, 3)\n",
    "    : return: Numpy array of normalize data\n",
    "    \"\"\"\n",
    "    # TODO: Implement Function\n",
    "    x_prime = []\n",
    "    for pic in x:\n",
    "        x_prime.append(pic.astype(float)*(1./255))\n",
    "    return np.array(x_prime)\n",
    "\n",
    "\n",
    "\"\"\"\n",
    "DON'T MODIFY ANYTHING IN THIS CELL THAT IS BELOW THIS LINE\n",
    "\"\"\"\n",
    "tests.test_normalize(normalize)"
   ]
  },
  {
   "cell_type": "code",
   "execution_count": null,
   "metadata": {
    "collapsed": true,
    "deletable": true,
    "editable": true
   },
   "outputs": [],
   "source": []
  },
  {
   "cell_type": "markdown",
   "metadata": {
    "deletable": true,
    "editable": true
   },
   "source": [
    "### One-hot encode\n",
    "Just like the previous code cell, you'll be implementing a function for preprocessing.  This time, you'll implement the `one_hot_encode` function. The input, `x`, are a list of labels.  Implement the function to return the list of labels as One-Hot encoded Numpy array.  The possible values for labels are 0 to 9. The one-hot encoding function should return the same encoding for each value between each call to `one_hot_encode`.  Make sure to save the map of encodings outside the function.\n",
    "\n",
    "Hint: Don't reinvent the wheel."
   ]
  },
  {
   "cell_type": "code",
   "execution_count": 4,
   "metadata": {
    "collapsed": false,
    "deletable": true,
    "editable": true
   },
   "outputs": [
    {
     "name": "stdout",
     "output_type": "stream",
     "text": [
      "Tests Passed\n"
     ]
    }
   ],
   "source": [
    "def one_hot_encode(x):\n",
    "    \"\"\"\n",
    "    One hot encode a list of sample labels. Return a one-hot encoded vector for each label.\n",
    "    : x: List of sample Labels\n",
    "    : return: Numpy array of one-hot encoded labels\n",
    "    \"\"\"\n",
    "    # TODO: Implement Function\n",
    "    one_hot_x = []\n",
    "    for label in x:\n",
    "        one_hot = np.zeros(10)\n",
    "        one_hot[label] = 1\n",
    "        one_hot_x.append(one_hot)\n",
    "    return np.array(one_hot_x)\n",
    "\n",
    "\n",
    "\"\"\"\n",
    "DON'T MODIFY ANYTHING IN THIS CELL THAT IS BELOW THIS LINE\n",
    "\"\"\"\n",
    "tests.test_one_hot_encode(one_hot_encode)"
   ]
  },
  {
   "cell_type": "markdown",
   "metadata": {
    "deletable": true,
    "editable": true
   },
   "source": [
    "### Randomize Data\n",
    "As you saw from exploring the data above, the order of the samples are randomized.  It doesn't hurt to randomize it again, but you don't need to for this dataset."
   ]
  },
  {
   "cell_type": "markdown",
   "metadata": {
    "deletable": true,
    "editable": true
   },
   "source": [
    "## Preprocess all the data and save it\n",
    "Running the code cell below will preprocess all the CIFAR-10 data and save it to file. The code below also uses 10% of the training data for validation."
   ]
  },
  {
   "cell_type": "code",
   "execution_count": 5,
   "metadata": {
    "collapsed": false,
    "deletable": true,
    "editable": true
   },
   "outputs": [],
   "source": [
    "\"\"\"\n",
    "DON'T MODIFY ANYTHING IN THIS CELL\n",
    "\"\"\"\n",
    "# Preprocess Training, Validation, and Testing Data\n",
    "helper.preprocess_and_save_data(cifar10_dataset_folder_path, normalize, one_hot_encode)"
   ]
  },
  {
   "cell_type": "markdown",
   "metadata": {
    "deletable": true,
    "editable": true
   },
   "source": [
    "# Check Point\n",
    "This is your first checkpoint.  If you ever decide to come back to this notebook or have to restart the notebook, you can start from here.  The preprocessed data has been saved to disk."
   ]
  },
  {
   "cell_type": "code",
   "execution_count": 6,
   "metadata": {
    "collapsed": false,
    "deletable": true,
    "editable": true
   },
   "outputs": [],
   "source": [
    "\"\"\"\n",
    "DON'T MODIFY ANYTHING IN THIS CELL\n",
    "\"\"\"\n",
    "import pickle\n",
    "import problem_unittests as tests\n",
    "import helper\n",
    "\n",
    "# Load the Preprocessed Validation data\n",
    "valid_features, valid_labels = pickle.load(open('preprocess_validation.p', mode='rb'))"
   ]
  },
  {
   "cell_type": "markdown",
   "metadata": {
    "deletable": true,
    "editable": true
   },
   "source": [
    "## Build the network\n",
    "For the neural network, you'll build each layer into a function.  Most of the code you've seen has been outside of functions. To test your code more thoroughly, we require that you put each layer in a function.  This allows us to give you better feedback and test for simple mistakes using our unittests before you submit your project.\n",
    "\n",
    ">**Note:** If you're finding it hard to dedicate enough time for this course each week, we've provided a small shortcut to this part of the project. In the next couple of problems, you'll have the option to use classes from the [TensorFlow Layers](https://www.tensorflow.org/api_docs/python/tf/layers) or [TensorFlow Layers (contrib)](https://www.tensorflow.org/api_guides/python/contrib.layers) packages to build each layer, except the layers you build in the \"Convolutional and Max Pooling Layer\" section.  TF Layers is similar to Keras's and TFLearn's abstraction to layers, so it's easy to pickup.\n",
    "\n",
    ">However, if you would like to get the most out of this course, try to solve all the problems _without_ using anything from the TF Layers packages. You **can** still use classes from other packages that happen to have the same name as ones you find in TF Layers! For example, instead of using the TF Layers version of the `conv2d` class, [tf.layers.conv2d](https://www.tensorflow.org/api_docs/python/tf/layers/conv2d), you would want to use the TF Neural Network version of `conv2d`, [tf.nn.conv2d](https://www.tensorflow.org/api_docs/python/tf/nn/conv2d). \n",
    "\n",
    "Let's begin!\n",
    "\n",
    "### Input\n",
    "The neural network needs to read the image data, one-hot encoded labels, and dropout keep probability. Implement the following functions\n",
    "* Implement `neural_net_image_input`\n",
    " * Return a [TF Placeholder](https://www.tensorflow.org/api_docs/python/tf/placeholder)\n",
    " * Set the shape using `image_shape` with batch size set to `None`.\n",
    " * Name the TensorFlow placeholder \"x\" using the TensorFlow `name` parameter in the [TF Placeholder](https://www.tensorflow.org/api_docs/python/tf/placeholder).\n",
    "* Implement `neural_net_label_input`\n",
    " * Return a [TF Placeholder](https://www.tensorflow.org/api_docs/python/tf/placeholder)\n",
    " * Set the shape using `n_classes` with batch size set to `None`.\n",
    " * Name the TensorFlow placeholder \"y\" using the TensorFlow `name` parameter in the [TF Placeholder](https://www.tensorflow.org/api_docs/python/tf/placeholder).\n",
    "* Implement `neural_net_keep_prob_input`\n",
    " * Return a [TF Placeholder](https://www.tensorflow.org/api_docs/python/tf/placeholder) for dropout keep probability.\n",
    " * Name the TensorFlow placeholder \"keep_prob\" using the TensorFlow `name` parameter in the [TF Placeholder](https://www.tensorflow.org/api_docs/python/tf/placeholder).\n",
    "\n",
    "These names will be used at the end of the project to load your saved model.\n",
    "\n",
    "Note: `None` for shapes in TensorFlow allow for a dynamic size."
   ]
  },
  {
   "cell_type": "code",
   "execution_count": 7,
   "metadata": {
    "collapsed": false,
    "deletable": true,
    "editable": true
   },
   "outputs": [
    {
     "name": "stdout",
     "output_type": "stream",
     "text": [
      "Image Input Tests Passed.\n",
      "Label Input Tests Passed.\n",
      "Keep Prob Tests Passed.\n"
     ]
    }
   ],
   "source": [
    "import tensorflow as tf\n",
    "\n",
    "def neural_net_image_input(image_shape):\n",
    "    \"\"\"\n",
    "    Return a Tensor for a bach of image input\n",
    "    : image_shape: Shape of the images\n",
    "    : return: Tensor for image input.\n",
    "    \"\"\"\n",
    "    # TODO: Implement Function\n",
    "    return tf.placeholder(tf.float32, shape=[None, image_shape[0], image_shape[1], image_shape[2]], name=\"x\")\n",
    "\n",
    "\n",
    "def neural_net_label_input(n_classes):\n",
    "    \"\"\"\n",
    "    Return a Tensor for a batch of label input\n",
    "    : n_classes: Number of classes\n",
    "    : return: Tensor for label input.\n",
    "    \"\"\"\n",
    "    # TODO: Implement Function\n",
    "    return tf.placeholder(tf.float32, shape=[None, n_classes], name=\"y\")\n",
    "\n",
    "\n",
    "def neural_net_keep_prob_input():\n",
    "    \"\"\"\n",
    "    Return a Tensor for keep probability\n",
    "    : return: Tensor for keep probability.\n",
    "    \"\"\"\n",
    "    # TODO: Implement Function\n",
    "    return tf.placeholder(tf.float32, name=\"keep_prob\")\n",
    "\n",
    "\n",
    "\"\"\"\n",
    "DON'T MODIFY ANYTHING IN THIS CELL THAT IS BELOW THIS LINE\n",
    "\"\"\"\n",
    "tf.reset_default_graph()\n",
    "tests.test_nn_image_inputs(neural_net_image_input)\n",
    "tests.test_nn_label_inputs(neural_net_label_input)\n",
    "tests.test_nn_keep_prob_inputs(neural_net_keep_prob_input)"
   ]
  },
  {
   "cell_type": "markdown",
   "metadata": {
    "deletable": true,
    "editable": true
   },
   "source": [
    "### Convolution and Max Pooling Layer\n",
    "Convolution layers have a lot of success with images. For this code cell, you should implement the function `conv2d_maxpool` to apply convolution then max pooling:\n",
    "* Create the weight and bias using `conv_ksize`, `conv_num_outputs` and the shape of `x_tensor`.\n",
    "* Apply a convolution to `x_tensor` using weight and `conv_strides`.\n",
    " * We recommend you use same padding, but you're welcome to use any padding.\n",
    "* Add bias\n",
    "* Add a nonlinear activation to the convolution.\n",
    "* Apply Max Pooling using `pool_ksize` and `pool_strides`.\n",
    " * We recommend you use same padding, but you're welcome to use any padding.\n",
    "\n",
    "**Note:** You **can't** use [TensorFlow Layers](https://www.tensorflow.org/api_docs/python/tf/layers) or [TensorFlow Layers (contrib)](https://www.tensorflow.org/api_guides/python/contrib.layers) for **this** layer, but you can still use TensorFlow's [Neural Network](https://www.tensorflow.org/api_docs/python/tf/nn) package. You may still use the shortcut option for all the **other** layers."
   ]
  },
  {
   "cell_type": "code",
   "execution_count": 23,
   "metadata": {
    "collapsed": false,
    "deletable": true,
    "editable": true
   },
   "outputs": [
    {
     "name": "stdout",
     "output_type": "stream",
     "text": [
      "Tests Passed\n"
     ]
    }
   ],
   "source": [
    "def conv2d_maxpool(x_tensor, conv_num_outputs, conv_ksize, conv_strides, pool_ksize, pool_strides):\n",
    "    \"\"\"\n",
    "    Apply convolution then max pooling to x_tensor\n",
    "    :param x_tensor: TensorFlow Tensor\n",
    "    :param conv_num_outputs: Number of outputs for the convolutional layer\n",
    "    :param conv_ksize: kernal size 2-D Tuple for the convolutional layer\n",
    "    :param conv_strides: Stride 2-D Tuple for convolution\n",
    "    :param pool_ksize: kernal size 2-D Tuple for pool\n",
    "    :param pool_strides: Stride 2-D Tuple for pool\n",
    "    : return: A tensor that represents convolution and max pooling of x_tensor\n",
    "    \"\"\"\n",
    "    # TODO: Implement Function\n",
    "    tensor_shape = x_tensor.get_shape().as_list()\n",
    "    \n",
    "    # weight and bias\n",
    "    W = tf.Variable(tf.truncated_normal([conv_ksize[0],conv_ksize[1], tensor_shape[3], conv_num_outputs], stddev=0.05))\n",
    "    b = tf.Variable(tf.zeros(conv_num_outputs))\n",
    "    \n",
    "    # convolutional layer    \n",
    "    x_tensor = tf.nn.conv2d(x_tensor, W, strides=[1, conv_strides[0], conv_strides[1], 1], padding=\"SAME\")\n",
    "    # add bias\n",
    "    x_tensor = tf.nn.bias_add(x_tensor, b)\n",
    "    \n",
    "    \n",
    "    # apply relu function\n",
    "    x_tensor = tf.nn.relu(x_tensor)\n",
    "    \n",
    "    # max pooling\n",
    "    x_tensor = tf.nn.max_pool(x_tensor, ksize=[1, pool_ksize[0], pool_ksize[1], 1],\\\n",
    "                              strides=[1, pool_strides[0], pool_strides[1], 1], padding=\"SAME\")\n",
    "    \n",
    "    \n",
    "    return x_tensor\n",
    "\n",
    "\n",
    "\"\"\"\n",
    "DON'T MODIFY ANYTHING IN THIS CELL THAT IS BELOW THIS LINE\n",
    "\"\"\"\n",
    "tests.test_con_pool(conv2d_maxpool)"
   ]
  },
  {
   "cell_type": "markdown",
   "metadata": {
    "deletable": true,
    "editable": true
   },
   "source": [
    "### Flatten Layer\n",
    "Implement the `flatten` function to change the dimension of `x_tensor` from a 4-D tensor to a 2-D tensor.  The output should be the shape (*Batch Size*, *Flattened Image Size*). Shortcut option: you can use classes from the [TensorFlow Layers](https://www.tensorflow.org/api_docs/python/tf/layers) or [TensorFlow Layers (contrib)](https://www.tensorflow.org/api_guides/python/contrib.layers) packages for this layer. For more of a challenge, only use other TensorFlow packages."
   ]
  },
  {
   "cell_type": "code",
   "execution_count": 9,
   "metadata": {
    "collapsed": false,
    "deletable": true,
    "editable": true
   },
   "outputs": [
    {
     "name": "stdout",
     "output_type": "stream",
     "text": [
      "Tests Passed\n"
     ]
    }
   ],
   "source": [
    "def flatten(x_tensor):\n",
    "    \"\"\"\n",
    "    Flatten x_tensor to (Batch Size, Flattened Image Size)\n",
    "    : x_tensor: A tensor of size (Batch Size, ...), where ... are the image dimensions.\n",
    "    : return: A tensor of size (Batch Size, Flattened Image Size).\n",
    "    \"\"\"\n",
    "    # TODO: Implement Function\n",
    "    x_tensor_shape = x_tensor.get_shape().as_list()\n",
    "    x2_tensor_shape = tf.shape(x_tensor) # had to use this function in order to keep the variable dimension of batch size\n",
    "    new_x_tensor = tf.reshape(x_tensor, [x2_tensor_shape[0], x_tensor_shape[1]*x_tensor_shape[2]*x_tensor_shape[3]])\n",
    "    return new_x_tensor\n",
    "\n",
    "\n",
    "\"\"\"\n",
    "DON'T MODIFY ANYTHING IN THIS CELL THAT IS BELOW THIS LINE\n",
    "\"\"\"\n",
    "tests.test_flatten(flatten)"
   ]
  },
  {
   "cell_type": "markdown",
   "metadata": {
    "deletable": true,
    "editable": true
   },
   "source": [
    "### Fully-Connected Layer\n",
    "Implement the `fully_conn` function to apply a fully connected layer to `x_tensor` with the shape (*Batch Size*, *num_outputs*). Shortcut option: you can use classes from the [TensorFlow Layers](https://www.tensorflow.org/api_docs/python/tf/layers) or [TensorFlow Layers (contrib)](https://www.tensorflow.org/api_guides/python/contrib.layers) packages for this layer. For more of a challenge, only use other TensorFlow packages."
   ]
  },
  {
   "cell_type": "code",
   "execution_count": 22,
   "metadata": {
    "collapsed": false,
    "deletable": true,
    "editable": true
   },
   "outputs": [
    {
     "name": "stdout",
     "output_type": "stream",
     "text": [
      "Tests Passed\n"
     ]
    }
   ],
   "source": [
    "def fully_conn(x_tensor, num_outputs):\n",
    "    \"\"\"\n",
    "    Apply a fully connected layer to x_tensor using weight and bias\n",
    "    : x_tensor: A 2-D tensor where the first dimension is batch size.\n",
    "    : num_outputs: The number of output that the new tensor should be.\n",
    "    : return: A 2-D tensor where the second dimension is num_outputs.\n",
    "    \"\"\"\n",
    "    # TODO: Implement Function\n",
    "    tensor_shape = x_tensor.get_shape().as_list()\n",
    "    \n",
    "    w_f = tf.Variable(tf.truncated_normal([tensor_shape[1], num_outputs], stddev=0.05))\n",
    "\n",
    "    b_f = tf.Variable(tf.zeros(num_outputs))\n",
    "    \n",
    "    output = tf.matmul(x_tensor, w_f)\n",
    "    output = tf.nn.bias_add(output, b_f)\n",
    "    \n",
    "    return output\n",
    "\n",
    "\n",
    "\"\"\"\n",
    "DON'T MODIFY ANYTHING IN THIS CELL THAT IS BELOW THIS LINE\n",
    "\"\"\"\n",
    "tests.test_fully_conn(fully_conn)"
   ]
  },
  {
   "cell_type": "markdown",
   "metadata": {
    "deletable": true,
    "editable": true
   },
   "source": [
    "### Output Layer\n",
    "Implement the `output` function to apply a fully connected layer to `x_tensor` with the shape (*Batch Size*, *num_outputs*). Shortcut option: you can use classes from the [TensorFlow Layers](https://www.tensorflow.org/api_docs/python/tf/layers) or [TensorFlow Layers (contrib)](https://www.tensorflow.org/api_guides/python/contrib.layers) packages for this layer. For more of a challenge, only use other TensorFlow packages.\n",
    "\n",
    "**Note:** Activation, softmax, or cross entropy should **not** be applied to this."
   ]
  },
  {
   "cell_type": "code",
   "execution_count": 11,
   "metadata": {
    "collapsed": false,
    "deletable": true,
    "editable": true
   },
   "outputs": [
    {
     "name": "stdout",
     "output_type": "stream",
     "text": [
      "Tests Passed\n"
     ]
    }
   ],
   "source": [
    "def output(x_tensor, num_outputs):\n",
    "    \"\"\"\n",
    "    Apply a output layer to x_tensor using weight and bias\n",
    "    : x_tensor: A 2-D tensor where the first dimension is batch size.\n",
    "    : num_outputs: The number of output that the new tensor should be.\n",
    "    : return: A 2-D tensor where the second dimension is num_outputs.\n",
    "    \"\"\"\n",
    "    # TODO: Implement Function\n",
    "    return fully_conn(x_tensor, num_outputs)\n",
    "\n",
    "\n",
    "\"\"\"\n",
    "DON'T MODIFY ANYTHING IN THIS CELL THAT IS BELOW THIS LINE\n",
    "\"\"\"\n",
    "tests.test_output(output)"
   ]
  },
  {
   "cell_type": "markdown",
   "metadata": {
    "deletable": true,
    "editable": true
   },
   "source": [
    "### Create Convolutional Model\n",
    "Implement the function `conv_net` to create a convolutional neural network model. The function takes in a batch of images, `x`, and outputs logits.  Use the layers you created above to create this model:\n",
    "\n",
    "* Apply 1, 2, or 3 Convolution and Max Pool layers\n",
    "* Apply a Flatten Layer\n",
    "* Apply 1, 2, or 3 Fully Connected Layers\n",
    "* Apply an Output Layer\n",
    "* Return the output\n",
    "* Apply [TensorFlow's Dropout](https://www.tensorflow.org/api_docs/python/tf/nn/dropout) to one or more layers in the model using `keep_prob`. "
   ]
  },
  {
   "cell_type": "code",
   "execution_count": 50,
   "metadata": {
    "collapsed": false,
    "deletable": true,
    "editable": true
   },
   "outputs": [
    {
     "name": "stdout",
     "output_type": "stream",
     "text": [
      "Neural Network Built!\n"
     ]
    }
   ],
   "source": [
    "def conv_net(x, keep_prob):\n",
    "    \"\"\"\n",
    "    Create a convolutional neural network model\n",
    "    : x: Placeholder tensor that holds image data.\n",
    "    : keep_prob: Placeholder tensor that hold dropout keep probability.\n",
    "    : return: Tensor that represents logits\n",
    "    \"\"\"\n",
    "    # TODO: Apply 1, 2, or 3 Convolution and Max Pool layers\n",
    "    #    Play around with different number of outputs, kernel size and stride\n",
    "    # Function Definition from Above:\n",
    "    #    conv2d_maxpool(x_tensor, conv_num_outputs, conv_ksize, conv_strides, pool_ksize, pool_strides)\n",
    "    \n",
    "    x = conv2d_maxpool(x, 48, (3,3), (2,2), (1,1), (1,1)) # shape is now (batch_size, 16, 16, 48) - no pooling\n",
    "    #assert x.get_shape().as_list() == [None, 16, 16, 48] # just to be sure\n",
    "    \n",
    "    x = conv2d_maxpool(x, 96, (3,3), (2,2), (1,1), (1,1)) # shape is now (batch_size, 8, 8, 96)\n",
    "    #print(x.get_shape().as_list())\n",
    "    #assert x.get_shape().as_list() == [None, 8, 8, 96], \"Hello\"\n",
    "    x = conv2d_maxpool(x, 192, (3,3), (1,1), (2,2), (2,2)) # shape is (batch_size, 4, 4, 192)\n",
    "    \n",
    " \n",
    "    # TODO: Apply a Flatten Layer\n",
    "    # Function Definition from Above:\n",
    "    #   flatten(x_tensor)\n",
    "    x = flatten(x)\n",
    "\n",
    "    # TODO: Apply 1, 2, or 3 Fully Connected Layers\n",
    "    #    Play around with different number of outputs\n",
    "    # Function Definition from Above:\n",
    "    #   fully_conn(x_tensor, num_outputs)\n",
    "    \n",
    "    x = fully_conn(x, 1024)\n",
    "    x = tf.nn.relu(x)\n",
    "    x = tf.nn.dropout(x, keep_prob)\n",
    "    \n",
    "    \n",
    "    x = fully_conn(x, 512)\n",
    "    x = tf.nn.relu(x)\n",
    "    x = tf.nn.dropout(x, keep_prob)\n",
    "    \n",
    "    x = fully_conn(x, 256)\n",
    "    x = tf.nn.relu(x)\n",
    "    \n",
    "    # TODO: Apply an Output Layer\n",
    "    #    Set this to the number of classes\n",
    "    # Function Definition from Above:\n",
    "    #   output(x_tensor, num_outputs)\n",
    "    \n",
    "    \n",
    "    # TODO: return output\n",
    "    return output(x, 10)\n",
    "\n",
    "\n",
    "\"\"\"\n",
    "DON'T MODIFY ANYTHING IN THIS CELL THAT IS BELOW THIS LINE\n",
    "\"\"\"\n",
    "\n",
    "##############################\n",
    "## Build the Neural Network ##\n",
    "##############################\n",
    "\n",
    "# Remove previous weights, bias, inputs, etc..\n",
    "tf.reset_default_graph()\n",
    "\n",
    "# Inputs\n",
    "x = neural_net_image_input((32, 32, 3))\n",
    "y = neural_net_label_input(10)\n",
    "keep_prob = neural_net_keep_prob_input()\n",
    "\n",
    "# Model\n",
    "logits = conv_net(x, keep_prob)\n",
    "\n",
    "# Name logits Tensor, so that is can be loaded from disk after training\n",
    "logits = tf.identity(logits, name='logits')\n",
    "\n",
    "# Loss and Optimizer\n",
    "cost = tf.reduce_mean(tf.nn.softmax_cross_entropy_with_logits(logits=logits, labels=y))\n",
    "optimizer = tf.train.AdamOptimizer().minimize(cost)\n",
    "\n",
    "# Accuracy\n",
    "correct_pred = tf.equal(tf.argmax(logits, 1), tf.argmax(y, 1))\n",
    "accuracy = tf.reduce_mean(tf.cast(correct_pred, tf.float32), name='accuracy')\n",
    "\n",
    "tests.test_conv_net(conv_net)"
   ]
  },
  {
   "cell_type": "markdown",
   "metadata": {
    "deletable": true,
    "editable": true
   },
   "source": [
    "## Train the Neural Network\n",
    "### Single Optimization\n",
    "Implement the function `train_neural_network` to do a single optimization.  The optimization should use `optimizer` to optimize in `session` with a `feed_dict` of the following:\n",
    "* `x` for image input\n",
    "* `y` for labels\n",
    "* `keep_prob` for keep probability for dropout\n",
    "\n",
    "This function will be called for each batch, so `tf.global_variables_initializer()` has already been called.\n",
    "\n",
    "Note: Nothing needs to be returned. This function is only optimizing the neural network."
   ]
  },
  {
   "cell_type": "code",
   "execution_count": 13,
   "metadata": {
    "collapsed": false,
    "deletable": true,
    "editable": true
   },
   "outputs": [
    {
     "name": "stdout",
     "output_type": "stream",
     "text": [
      "Tests Passed\n"
     ]
    }
   ],
   "source": [
    "def train_neural_network(session, optimizer, keep_probability, feature_batch, label_batch):\n",
    "    \"\"\"\n",
    "    Optimize the session on a batch of images and labels\n",
    "    : session: Current TensorFlow session\n",
    "    : optimizer: TensorFlow optimizer function\n",
    "    : keep_probability: keep probability\n",
    "    : feature_batch: Batch of Numpy image data\n",
    "    : label_batch: Batch of Numpy label data\n",
    "    \"\"\"\n",
    "    # TODO: Implement Function\n",
    "    with session as sess:\n",
    "        sess.run(optimizer, feed_dict={x: feature_batch, y: label_batch, keep_prob: keep_probability})\n",
    "        \n",
    "\n",
    "\n",
    "\"\"\"\n",
    "DON'T MODIFY ANYTHING IN THIS CELL THAT IS BELOW THIS LINE\n",
    "\"\"\"\n",
    "tests.test_train_nn(train_neural_network)"
   ]
  },
  {
   "cell_type": "markdown",
   "metadata": {
    "deletable": true,
    "editable": true
   },
   "source": [
    "### Show Stats\n",
    "Implement the function `print_stats` to print loss and validation accuracy.  Use the global variables `valid_features` and `valid_labels` to calculate validation accuracy.  Use a keep probability of `1.0` to calculate the loss and validation accuracy."
   ]
  },
  {
   "cell_type": "code",
   "execution_count": 14,
   "metadata": {
    "collapsed": false,
    "deletable": true,
    "editable": true
   },
   "outputs": [],
   "source": [
    "def print_stats(session, feature_batch, label_batch, cost, accuracy):\n",
    "    \"\"\"\n",
    "    Print information about loss and validation accuracy\n",
    "    : session: Current TensorFlow session\n",
    "    : feature_batch: Batch of Numpy image data\n",
    "    : label_batch: Batch of Numpy label data\n",
    "    : cost: TensorFlow cost function\n",
    "    : accuracy: TensorFlow accuracy function\n",
    "    \"\"\"\n",
    "    # TODO: Implement Function\n",
    "    with session as sess:\n",
    "        # calculate loss and validation accuracy\n",
    "        loss = sess.run(cost, feed_dict={x: feature_batch, y: label_batch, keep_prob: 1.})\n",
    "        valid_acc = sess.run(accuracy, feed_dict={x: valid_features, y: valid_labels, keep_prob: 1.})\n",
    "        \n",
    "        # print stats\n",
    "        print(\"Loss: \", loss)\n",
    "        print(\"Validation accuracy: \", valid_acc)\n",
    "        \n",
    "        "
   ]
  },
  {
   "cell_type": "markdown",
   "metadata": {
    "deletable": true,
    "editable": true
   },
   "source": [
    "### Hyperparameters\n",
    "Tune the following parameters:\n",
    "* Set `epochs` to the number of iterations until the network stops learning or start overfitting\n",
    "* Set `batch_size` to the highest number that your machine has memory for.  Most people set them to common sizes of memory:\n",
    " * 64\n",
    " * 128\n",
    " * 256\n",
    " * ...\n",
    "* Set `keep_probability` to the probability of keeping a node using dropout"
   ]
  },
  {
   "cell_type": "code",
   "execution_count": 54,
   "metadata": {
    "collapsed": true,
    "deletable": true,
    "editable": true
   },
   "outputs": [],
   "source": [
    "# TODO: Tune Parameters\n",
    "epochs = 20\n",
    "batch_size = 128\n",
    "keep_probability = 0.5"
   ]
  },
  {
   "cell_type": "markdown",
   "metadata": {
    "deletable": true,
    "editable": true
   },
   "source": [
    "### Train on a Single CIFAR-10 Batch\n",
    "Instead of training the neural network on all the CIFAR-10 batches of data, let's use a single batch. This should save time while you iterate on the model to get a better accuracy.  Once the final validation accuracy is 50% or greater, run the model on all the data in the next section."
   ]
  },
  {
   "cell_type": "code",
   "execution_count": 51,
   "metadata": {
    "collapsed": false,
    "deletable": true,
    "editable": true
   },
   "outputs": [
    {
     "name": "stdout",
     "output_type": "stream",
     "text": [
      "Checking the Training on a Single Batch...\n",
      "Epoch  1, CIFAR-10 Batch 1:  Loss:  2.04337\n",
      "Validation accuracy:  0.2576\n",
      "Epoch  2, CIFAR-10 Batch 1:  Loss:  1.83501\n",
      "Validation accuracy:  0.4\n",
      "Epoch  3, CIFAR-10 Batch 1:  Loss:  1.59898\n",
      "Validation accuracy:  0.4344\n",
      "Epoch  4, CIFAR-10 Batch 1:  Loss:  1.38081\n",
      "Validation accuracy:  0.482\n",
      "Epoch  5, CIFAR-10 Batch 1:  Loss:  1.05755\n",
      "Validation accuracy:  0.5138\n",
      "Epoch  6, CIFAR-10 Batch 1:  Loss:  0.861893\n",
      "Validation accuracy:  0.5188\n",
      "Epoch  7, CIFAR-10 Batch 1:  Loss:  0.662641\n",
      "Validation accuracy:  0.5332\n",
      "Epoch  8, CIFAR-10 Batch 1:  Loss:  0.558679\n",
      "Validation accuracy:  0.5428\n",
      "Epoch  9, CIFAR-10 Batch 1:  Loss:  0.421372\n",
      "Validation accuracy:  0.4962\n",
      "Epoch 10, CIFAR-10 Batch 1:  Loss:  0.256756\n",
      "Validation accuracy:  0.5396\n",
      "Epoch 11, CIFAR-10 Batch 1:  Loss:  0.136957\n",
      "Validation accuracy:  0.5526\n",
      "Epoch 12, CIFAR-10 Batch 1:  Loss:  0.115558\n",
      "Validation accuracy:  0.5606\n",
      "Epoch 13, CIFAR-10 Batch 1:  Loss:  0.0597389\n",
      "Validation accuracy:  0.5638\n",
      "Epoch 14, CIFAR-10 Batch 1:  Loss:  0.0441106\n",
      "Validation accuracy:  0.559\n",
      "Epoch 15, CIFAR-10 Batch 1:  Loss:  0.03576\n",
      "Validation accuracy:  0.5608\n",
      "Epoch 16, CIFAR-10 Batch 1:  Loss:  0.0207553\n",
      "Validation accuracy:  0.5668\n",
      "Epoch 17, CIFAR-10 Batch 1:  Loss:  0.0147472\n",
      "Validation accuracy:  0.5744\n",
      "Epoch 18, CIFAR-10 Batch 1:  Loss:  0.0104702\n",
      "Validation accuracy:  0.5706\n",
      "Epoch 19, CIFAR-10 Batch 1:  Loss:  0.0100761\n",
      "Validation accuracy:  0.567\n",
      "Epoch 20, CIFAR-10 Batch 1:  Loss:  0.0133573\n",
      "Validation accuracy:  0.5522\n",
      "Epoch 21, CIFAR-10 Batch 1:  Loss:  0.00383011\n",
      "Validation accuracy:  0.563\n",
      "Epoch 22, CIFAR-10 Batch 1:  Loss:  0.004768\n",
      "Validation accuracy:  0.5566\n",
      "Epoch 23, CIFAR-10 Batch 1:  Loss:  0.00125938\n",
      "Validation accuracy:  0.5674\n",
      "Epoch 24, CIFAR-10 Batch 1:  Loss:  0.0024175\n",
      "Validation accuracy:  0.5628\n",
      "Epoch 25, CIFAR-10 Batch 1:  Loss:  0.00094283\n",
      "Validation accuracy:  0.5672\n",
      "Epoch 26, CIFAR-10 Batch 1:  Loss:  0.00102318\n",
      "Validation accuracy:  0.5658\n",
      "Epoch 27, CIFAR-10 Batch 1:  Loss:  0.000376068\n",
      "Validation accuracy:  0.571\n",
      "Epoch 28, CIFAR-10 Batch 1:  Loss:  0.00035103\n",
      "Validation accuracy:  0.559\n",
      "Epoch 29, CIFAR-10 Batch 1:  Loss:  0.000386127\n",
      "Validation accuracy:  0.5534\n",
      "Epoch 30, CIFAR-10 Batch 1:  Loss:  0.000914544\n",
      "Validation accuracy:  0.5672\n",
      "Epoch 31, CIFAR-10 Batch 1:  Loss:  0.000210375\n",
      "Validation accuracy:  0.559\n",
      "Epoch 32, CIFAR-10 Batch 1:  Loss:  0.000199791\n",
      "Validation accuracy:  0.5572\n",
      "Epoch 33, CIFAR-10 Batch 1:  Loss:  0.000209798\n",
      "Validation accuracy:  0.5756\n",
      "Epoch 34, CIFAR-10 Batch 1:  Loss:  0.000284406\n",
      "Validation accuracy:  0.577\n",
      "Epoch 35, CIFAR-10 Batch 1:  Loss:  0.000276074\n",
      "Validation accuracy:  0.5782\n",
      "Epoch 36, CIFAR-10 Batch 1:  Loss:  0.000478934\n",
      "Validation accuracy:  0.5662\n",
      "Epoch 37, CIFAR-10 Batch 1:  Loss:  0.000175786\n",
      "Validation accuracy:  0.5658\n",
      "Epoch 38, CIFAR-10 Batch 1:  Loss:  0.000182393\n",
      "Validation accuracy:  0.5708\n",
      "Epoch 39, CIFAR-10 Batch 1:  Loss:  0.000103837\n",
      "Validation accuracy:  0.5688\n",
      "Epoch 40, CIFAR-10 Batch 1:  Loss:  0.00014415\n",
      "Validation accuracy:  0.5792\n",
      "Epoch 41, CIFAR-10 Batch 1:  Loss:  0.000150618\n",
      "Validation accuracy:  0.5702\n",
      "Epoch 42, CIFAR-10 Batch 1:  Loss:  0.000100008\n",
      "Validation accuracy:  0.577\n",
      "Epoch 43, CIFAR-10 Batch 1:  Loss:  0.000110302\n",
      "Validation accuracy:  0.5802\n",
      "Epoch 44, CIFAR-10 Batch 1:  Loss:  5.2109e-05\n",
      "Validation accuracy:  0.579\n",
      "Epoch 45, CIFAR-10 Batch 1:  Loss:  0.000139771\n",
      "Validation accuracy:  0.567\n",
      "Epoch 46, CIFAR-10 Batch 1:  Loss:  0.000115567\n",
      "Validation accuracy:  0.559\n",
      "Epoch 47, CIFAR-10 Batch 1:  Loss:  0.000367761\n",
      "Validation accuracy:  0.577\n",
      "Epoch 48, CIFAR-10 Batch 1:  Loss:  0.000112766\n",
      "Validation accuracy:  0.5754\n",
      "Epoch 49, CIFAR-10 Batch 1:  Loss:  0.00032301\n",
      "Validation accuracy:  0.5658\n",
      "Epoch 50, CIFAR-10 Batch 1:  Loss:  0.00246693\n",
      "Validation accuracy:  0.5636\n"
     ]
    }
   ],
   "source": [
    "\"\"\"\n",
    "DON'T MODIFY ANYTHING IN THIS CELL\n",
    "\"\"\"\n",
    "print('Checking the Training on a Single Batch...')\n",
    "\n",
    "with tf.Session() as sess:\n",
    "    # Initializing the variables\n",
    "    sess.run(tf.global_variables_initializer())\n",
    "    \n",
    "    # Training cycle\n",
    "    for epoch in range(epochs):\n",
    "        batch_i = 1\n",
    "        for batch_features, batch_labels in helper.load_preprocess_training_batch(batch_i, batch_size):\n",
    "            train_neural_network(sess.as_default(), optimizer, keep_probability, batch_features, batch_labels)\n",
    "        print('Epoch {:>2}, CIFAR-10 Batch {}:  '.format(epoch + 1, batch_i), end='')\n",
    "        print_stats(sess.as_default(), batch_features, batch_labels, cost, accuracy)"
   ]
  },
  {
   "cell_type": "markdown",
   "metadata": {
    "deletable": true,
    "editable": true
   },
   "source": [
    "### Fully Train the Model\n",
    "Now that you got a good accuracy with a single CIFAR-10 batch, try it with all five batches."
   ]
  },
  {
   "cell_type": "code",
   "execution_count": 55,
   "metadata": {
    "collapsed": false,
    "deletable": true,
    "editable": true
   },
   "outputs": [
    {
     "name": "stdout",
     "output_type": "stream",
     "text": [
      "Training...\n",
      "Epoch  1, CIFAR-10 Batch 1:  Loss:  2.11454\n",
      "Validation accuracy:  0.271\n",
      "Epoch  1, CIFAR-10 Batch 2:  Loss:  1.5248\n",
      "Validation accuracy:  0.4004\n",
      "Epoch  1, CIFAR-10 Batch 3:  Loss:  1.26495\n",
      "Validation accuracy:  0.427\n",
      "Epoch  1, CIFAR-10 Batch 4:  Loss:  1.41835\n",
      "Validation accuracy:  0.4692\n",
      "Epoch  1, CIFAR-10 Batch 5:  Loss:  1.44408\n",
      "Validation accuracy:  0.523\n",
      "Epoch  2, CIFAR-10 Batch 1:  Loss:  1.25925\n",
      "Validation accuracy:  0.5392\n",
      "Epoch  2, CIFAR-10 Batch 2:  Loss:  1.06703\n",
      "Validation accuracy:  0.5404\n",
      "Epoch  2, CIFAR-10 Batch 3:  Loss:  0.931835\n",
      "Validation accuracy:  0.5466\n",
      "Epoch  2, CIFAR-10 Batch 4:  Loss:  0.962535\n",
      "Validation accuracy:  0.5734\n",
      "Epoch  2, CIFAR-10 Batch 5:  Loss:  0.896415\n",
      "Validation accuracy:  0.6104\n",
      "Epoch  3, CIFAR-10 Batch 1:  Loss:  1.04064\n",
      "Validation accuracy:  0.6056\n",
      "Epoch  3, CIFAR-10 Batch 2:  Loss:  0.751152\n",
      "Validation accuracy:  0.6018\n",
      "Epoch  3, CIFAR-10 Batch 3:  Loss:  0.554414\n",
      "Validation accuracy:  0.6244\n",
      "Epoch  3, CIFAR-10 Batch 4:  Loss:  0.698562\n",
      "Validation accuracy:  0.6326\n",
      "Epoch  3, CIFAR-10 Batch 5:  Loss:  0.571389\n",
      "Validation accuracy:  0.6504\n",
      "Epoch  4, CIFAR-10 Batch 1:  Loss:  0.619844\n",
      "Validation accuracy:  0.643\n",
      "Epoch  4, CIFAR-10 Batch 2:  Loss:  0.510012\n",
      "Validation accuracy:  0.6376\n",
      "Epoch  4, CIFAR-10 Batch 3:  Loss:  0.299235\n",
      "Validation accuracy:  0.6506\n",
      "Epoch  4, CIFAR-10 Batch 4:  Loss:  0.491834\n",
      "Validation accuracy:  0.6722\n",
      "Epoch  4, CIFAR-10 Batch 5:  Loss:  0.431238\n",
      "Validation accuracy:  0.6288\n",
      "Epoch  5, CIFAR-10 Batch 1:  Loss:  0.375018\n",
      "Validation accuracy:  0.6458\n",
      "Epoch  5, CIFAR-10 Batch 2:  Loss:  0.349518\n",
      "Validation accuracy:  0.6644\n",
      "Epoch  5, CIFAR-10 Batch 3:  Loss:  0.2361\n",
      "Validation accuracy:  0.675\n",
      "Epoch  5, CIFAR-10 Batch 4:  Loss:  0.288147\n",
      "Validation accuracy:  0.6756\n",
      "Epoch  5, CIFAR-10 Batch 5:  Loss:  0.247401\n",
      "Validation accuracy:  0.6688\n",
      "Epoch  6, CIFAR-10 Batch 1:  Loss:  0.302718\n",
      "Validation accuracy:  0.681\n",
      "Epoch  6, CIFAR-10 Batch 2:  Loss:  0.227114\n",
      "Validation accuracy:  0.6678\n",
      "Epoch  6, CIFAR-10 Batch 3:  Loss:  0.145291\n",
      "Validation accuracy:  0.696\n",
      "Epoch  6, CIFAR-10 Batch 4:  Loss:  0.168942\n",
      "Validation accuracy:  0.6894\n",
      "Epoch  6, CIFAR-10 Batch 5:  Loss:  0.157799\n",
      "Validation accuracy:  0.6692\n",
      "Epoch  7, CIFAR-10 Batch 1:  Loss:  0.1492\n",
      "Validation accuracy:  0.6786\n",
      "Epoch  7, CIFAR-10 Batch 2:  Loss:  0.129283\n",
      "Validation accuracy:  0.6826\n",
      "Epoch  7, CIFAR-10 Batch 3:  Loss:  0.0872887\n",
      "Validation accuracy:  0.6924\n",
      "Epoch  7, CIFAR-10 Batch 4:  Loss:  0.154845\n",
      "Validation accuracy:  0.6926\n",
      "Epoch  7, CIFAR-10 Batch 5:  Loss:  0.128338\n",
      "Validation accuracy:  0.6878\n",
      "Epoch  8, CIFAR-10 Batch 1:  Loss:  0.13856\n",
      "Validation accuracy:  0.6872\n",
      "Epoch  8, CIFAR-10 Batch 2:  Loss:  0.11702\n",
      "Validation accuracy:  0.677\n",
      "Epoch  8, CIFAR-10 Batch 3:  Loss:  0.0496034\n",
      "Validation accuracy:  0.6778\n",
      "Epoch  8, CIFAR-10 Batch 4:  Loss:  0.124853\n",
      "Validation accuracy:  0.6918\n",
      "Epoch  8, CIFAR-10 Batch 5:  Loss:  0.0886758\n",
      "Validation accuracy:  0.6686\n",
      "Epoch  9, CIFAR-10 Batch 1:  Loss:  0.0731464\n",
      "Validation accuracy:  0.684\n",
      "Epoch  9, CIFAR-10 Batch 2:  Loss:  0.0434855\n",
      "Validation accuracy:  0.6852\n",
      "Epoch  9, CIFAR-10 Batch 3:  Loss:  0.0347068\n",
      "Validation accuracy:  0.6924\n",
      "Epoch  9, CIFAR-10 Batch 4:  Loss:  0.128761\n",
      "Validation accuracy:  0.6716\n",
      "Epoch  9, CIFAR-10 Batch 5:  Loss:  0.0376505\n",
      "Validation accuracy:  0.6934\n",
      "Epoch 10, CIFAR-10 Batch 1:  Loss:  0.0622718\n",
      "Validation accuracy:  0.6876\n",
      "Epoch 10, CIFAR-10 Batch 2:  Loss:  0.0562554\n",
      "Validation accuracy:  0.6954\n",
      "Epoch 10, CIFAR-10 Batch 3:  Loss:  0.0312638\n",
      "Validation accuracy:  0.679\n",
      "Epoch 10, CIFAR-10 Batch 4:  Loss:  0.0715079\n",
      "Validation accuracy:  0.6878\n",
      "Epoch 10, CIFAR-10 Batch 5:  Loss:  0.0285198\n",
      "Validation accuracy:  0.6864\n",
      "Epoch 11, CIFAR-10 Batch 1:  Loss:  0.0359271\n",
      "Validation accuracy:  0.6884\n",
      "Epoch 11, CIFAR-10 Batch 2:  Loss:  0.0220935\n",
      "Validation accuracy:  0.685\n",
      "Epoch 11, CIFAR-10 Batch 3:  Loss:  0.0166572\n",
      "Validation accuracy:  0.6784\n",
      "Epoch 11, CIFAR-10 Batch 4:  Loss:  0.0307573\n",
      "Validation accuracy:  0.6944\n",
      "Epoch 11, CIFAR-10 Batch 5:  Loss:  0.0372063\n",
      "Validation accuracy:  0.6892\n",
      "Epoch 12, CIFAR-10 Batch 1:  Loss:  0.0196439\n",
      "Validation accuracy:  0.6924\n",
      "Epoch 12, CIFAR-10 Batch 2:  Loss:  0.0135225\n",
      "Validation accuracy:  0.693\n",
      "Epoch 12, CIFAR-10 Batch 3:  Loss:  0.0112308\n",
      "Validation accuracy:  0.6884\n",
      "Epoch 12, CIFAR-10 Batch 4:  Loss:  0.0249203\n",
      "Validation accuracy:  0.691\n",
      "Epoch 12, CIFAR-10 Batch 5:  Loss:  0.0130596\n",
      "Validation accuracy:  0.7036\n",
      "Epoch 13, CIFAR-10 Batch 1:  Loss:  0.0157316\n",
      "Validation accuracy:  0.6998\n",
      "Epoch 13, CIFAR-10 Batch 2:  Loss:  0.0111221\n",
      "Validation accuracy:  0.6904\n",
      "Epoch 13, CIFAR-10 Batch 3:  Loss:  0.00429466\n",
      "Validation accuracy:  0.702\n",
      "Epoch 13, CIFAR-10 Batch 4:  Loss:  0.0151327\n",
      "Validation accuracy:  0.6934\n",
      "Epoch 13, CIFAR-10 Batch 5:  Loss:  0.0103678\n",
      "Validation accuracy:  0.6906\n",
      "Epoch 14, CIFAR-10 Batch 1:  Loss:  0.018881\n",
      "Validation accuracy:  0.6768\n",
      "Epoch 14, CIFAR-10 Batch 2:  Loss:  0.00664307\n",
      "Validation accuracy:  0.6888\n",
      "Epoch 14, CIFAR-10 Batch 3:  Loss:  0.00680063\n",
      "Validation accuracy:  0.6914\n",
      "Epoch 14, CIFAR-10 Batch 4:  Loss:  0.0117347\n",
      "Validation accuracy:  0.6932\n",
      "Epoch 14, CIFAR-10 Batch 5:  Loss:  0.00495477\n",
      "Validation accuracy:  0.6948\n",
      "Epoch 15, CIFAR-10 Batch 1:  Loss:  0.00637988\n",
      "Validation accuracy:  0.694\n",
      "Epoch 15, CIFAR-10 Batch 2:  Loss:  0.00481298\n",
      "Validation accuracy:  0.6902\n",
      "Epoch 15, CIFAR-10 Batch 3:  Loss:  0.00389085\n",
      "Validation accuracy:  0.6962\n",
      "Epoch 15, CIFAR-10 Batch 4:  Loss:  0.00429134\n",
      "Validation accuracy:  0.6984\n",
      "Epoch 15, CIFAR-10 Batch 5:  Loss:  0.00691045\n",
      "Validation accuracy:  0.689\n",
      "Epoch 16, CIFAR-10 Batch 1:  Loss:  0.00298148\n",
      "Validation accuracy:  0.693\n",
      "Epoch 16, CIFAR-10 Batch 2:  Loss:  0.00306427\n",
      "Validation accuracy:  0.7\n",
      "Epoch 16, CIFAR-10 Batch 3:  Loss:  0.00281624\n",
      "Validation accuracy:  0.691\n",
      "Epoch 16, CIFAR-10 Batch 4:  Loss:  0.00373063\n",
      "Validation accuracy:  0.6902\n",
      "Epoch 16, CIFAR-10 Batch 5:  Loss:  0.00208495\n",
      "Validation accuracy:  0.6956\n",
      "Epoch 17, CIFAR-10 Batch 1:  Loss:  0.00557949\n",
      "Validation accuracy:  0.6908\n",
      "Epoch 17, CIFAR-10 Batch 2:  Loss:  0.00447052\n",
      "Validation accuracy:  0.694\n",
      "Epoch 17, CIFAR-10 Batch 3:  Loss:  0.0028255\n",
      "Validation accuracy:  0.702\n",
      "Epoch 17, CIFAR-10 Batch 4:  Loss:  0.00756331\n",
      "Validation accuracy:  0.6896\n",
      "Epoch 17, CIFAR-10 Batch 5:  Loss:  0.00200187\n",
      "Validation accuracy:  0.7004\n",
      "Epoch 18, CIFAR-10 Batch 1:  Loss:  0.00213765\n",
      "Validation accuracy:  0.7016\n",
      "Epoch 18, CIFAR-10 Batch 2:  Loss:  0.00389475\n",
      "Validation accuracy:  0.6876\n",
      "Epoch 18, CIFAR-10 Batch 3:  Loss:  0.00167173\n",
      "Validation accuracy:  0.702\n",
      "Epoch 18, CIFAR-10 Batch 4:  Loss:  0.00383276\n",
      "Validation accuracy:  0.6882\n",
      "Epoch 18, CIFAR-10 Batch 5:  Loss:  0.00276691\n",
      "Validation accuracy:  0.69\n",
      "Epoch 19, CIFAR-10 Batch 1:  Loss:  0.00243772\n",
      "Validation accuracy:  0.6942\n",
      "Epoch 19, CIFAR-10 Batch 2:  Loss:  0.00698482\n",
      "Validation accuracy:  0.6818\n",
      "Epoch 19, CIFAR-10 Batch 3:  Loss:  0.00240892\n",
      "Validation accuracy:  0.6838\n",
      "Epoch 19, CIFAR-10 Batch 4:  Loss:  0.00315572\n",
      "Validation accuracy:  0.6946\n",
      "Epoch 19, CIFAR-10 Batch 5:  Loss:  0.00582892\n",
      "Validation accuracy:  0.6978\n",
      "Epoch 20, CIFAR-10 Batch 1:  Loss:  0.00468587\n",
      "Validation accuracy:  0.6936\n",
      "Epoch 20, CIFAR-10 Batch 2:  Loss:  0.00110094\n",
      "Validation accuracy:  0.6962\n",
      "Epoch 20, CIFAR-10 Batch 3:  Loss:  0.00257719\n",
      "Validation accuracy:  0.6976\n",
      "Epoch 20, CIFAR-10 Batch 4:  Loss:  0.0010406\n",
      "Validation accuracy:  0.7072\n",
      "Epoch 20, CIFAR-10 Batch 5:  Loss:  0.00325054\n",
      "Validation accuracy:  0.7044\n"
     ]
    }
   ],
   "source": [
    "\"\"\"\n",
    "DON'T MODIFY ANYTHING IN THIS CELL\n",
    "\"\"\"\n",
    "save_model_path = './image_classification'\n",
    "\n",
    "print('Training...')\n",
    "with tf.Session() as sess:\n",
    "    # Initializing the variables\n",
    "    sess.run(tf.global_variables_initializer())\n",
    "    \n",
    "    # Training cycle\n",
    "    for epoch in range(epochs):\n",
    "        # Loop over all batches\n",
    "        n_batches = 5\n",
    "        for batch_i in range(1, n_batches + 1):\n",
    "            for batch_features, batch_labels in helper.load_preprocess_training_batch(batch_i, batch_size):\n",
    "                train_neural_network(sess.as_default(), optimizer, keep_probability, batch_features, batch_labels)\n",
    "            print('Epoch {:>2}, CIFAR-10 Batch {}:  '.format(epoch + 1, batch_i), end='')\n",
    "            print_stats(sess.as_default(), batch_features, batch_labels, cost, accuracy)\n",
    "            \n",
    "    # Save Model\n",
    "    saver = tf.train.Saver()\n",
    "    save_path = saver.save(sess, save_model_path)"
   ]
  },
  {
   "cell_type": "markdown",
   "metadata": {
    "deletable": true,
    "editable": true
   },
   "source": [
    "# Checkpoint\n",
    "The model has been saved to disk.\n",
    "## Test Model\n",
    "Test your model against the test dataset.  This will be your final accuracy. You should have an accuracy greater than 50%. If you don't, keep tweaking the model architecture and parameters."
   ]
  },
  {
   "cell_type": "code",
   "execution_count": 56,
   "metadata": {
    "collapsed": false,
    "deletable": true,
    "editable": true
   },
   "outputs": [
    {
     "name": "stdout",
     "output_type": "stream",
     "text": [
      "Testing Accuracy: 0.6970925632911392\n",
      "\n"
     ]
    },
    {
     "data": {
      "image/png": "[encoded data removed]",
      "text/plain": [
       "<matplotlib.figure.Figure at 0x7f3f0b7c7828>"
      ]
     },
     "metadata": {
      "image/png": {
       "height": 319,
       "width": 355
      }
     },
     "output_type": "display_data"
    }
   ],
   "source": [
    "\"\"\"\n",
    "DON'T MODIFY ANYTHING IN THIS CELL\n",
    "\"\"\"\n",
    "%matplotlib inline\n",
    "%config InlineBackend.figure_format = 'retina'\n",
    "\n",
    "import tensorflow as tf\n",
    "import pickle\n",
    "import helper\n",
    "import random\n",
    "\n",
    "# Set batch size if not already set\n",
    "try:\n",
    "    if batch_size:\n",
    "        pass\n",
    "except NameError:\n",
    "    batch_size = 64\n",
    "\n",
    "save_model_path = './image_classification'\n",
    "n_samples = 4\n",
    "top_n_predictions = 3\n",
    "\n",
    "def test_model():\n",
    "    \"\"\"\n",
    "    Test the saved model against the test dataset\n",
    "    \"\"\"\n",
    "\n",
    "    test_features, test_labels = pickle.load(open('preprocess_training.p', mode='rb'))\n",
    "    loaded_graph = tf.Graph()\n",
    "\n",
    "    with tf.Session(graph=loaded_graph) as sess:\n",
    "        # Load model\n",
    "        loader = tf.train.import_meta_graph(save_model_path + '.meta')\n",
    "        loader.restore(sess, save_model_path)\n",
    "\n",
    "        # Get Tensors from loaded model\n",
    "        loaded_x = loaded_graph.get_tensor_by_name('x:0')\n",
    "        loaded_y = loaded_graph.get_tensor_by_name('y:0')\n",
    "        loaded_keep_prob = loaded_graph.get_tensor_by_name('keep_prob:0')\n",
    "        loaded_logits = loaded_graph.get_tensor_by_name('logits:0')\n",
    "        loaded_acc = loaded_graph.get_tensor_by_name('accuracy:0')\n",
    "        \n",
    "        # Get accuracy in batches for memory limitations\n",
    "        test_batch_acc_total = 0\n",
    "        test_batch_count = 0\n",
    "        \n",
    "        for train_feature_batch, train_label_batch in helper.batch_features_labels(test_features, test_labels, batch_size):\n",
    "            test_batch_acc_total += sess.run(\n",
    "                loaded_acc,\n",
    "                feed_dict={loaded_x: train_feature_batch, loaded_y: train_label_batch, loaded_keep_prob: 1.0})\n",
    "            test_batch_count += 1\n",
    "\n",
    "        print('Testing Accuracy: {}\\n'.format(test_batch_acc_total/test_batch_count))\n",
    "\n",
    "        # Print Random Samples\n",
    "        random_test_features, random_test_labels = tuple(zip(*random.sample(list(zip(test_features, test_labels)), n_samples)))\n",
    "        random_test_predictions = sess.run(\n",
    "            tf.nn.top_k(tf.nn.softmax(loaded_logits), top_n_predictions),\n",
    "            feed_dict={loaded_x: random_test_features, loaded_y: random_test_labels, loaded_keep_prob: 1.0})\n",
    "        helper.display_image_predictions(random_test_features, random_test_labels, random_test_predictions)\n",
    "\n",
    "\n",
    "test_model()"
   ]
  },
  {
   "cell_type": "markdown",
   "metadata": {
    "deletable": true,
    "editable": true
   },
   "source": [
    "## Why 50-70% Accuracy?\n",
    "You might be wondering why you can't get an accuracy any higher. First things first, 50% isn't bad for a simple CNN.  Pure guessing would get you 10% accuracy. However, you might notice people are getting scores [well above 70%](http://rodrigob.github.io/are_we_there_yet/build/classification_datasets_results.html#43494641522d3130).  That's because we haven't taught you all there is to know about neural networks. We still need to cover a few more techniques.\n",
    "## Submitting This Project\n",
    "When submitting this project, make sure to run all the cells before saving the notebook.  Save the notebook file as \"dlnd_image_classification.ipynb\" and save it as a HTML file under \"File\" -> \"Download as\".  Include the \"helper.py\" and \"problem_unittests.py\" files in your submission."
   ]
  }
 ],
 "metadata": {
  "kernelspec": {
   "display_name": "Python 3",
   "language": "python",
   "name": "python3"
  },
  "language_info": {
   "codemirror_mode": {
    "name": "ipython",
    "version": 3
   },
   "file_extension": ".py",
   "mimetype": "text/x-python",
   "name": "python",
   "nbconvert_exporter": "python",
   "pygments_lexer": "ipython3",
   "version": "3.5.3"
  }
 },
 "nbformat": 4,
 "nbformat_minor": 0
}
